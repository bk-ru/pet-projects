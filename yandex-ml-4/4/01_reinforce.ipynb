{
  "cells": [
    {
      "cell_type": "markdown",
      "metadata": {
        "id": "UVkCC1iri2SN"
      },
      "source": [
        "## HW 4: Policy gradient\n",
        "_Reference: based on Practical RL course by YSDA_\n",
        "\n",
        "In this notebook you have to master Policy gradient Q-learning and apply it to familiar (and not so familiar) RL problems once again.\n",
        "\n",
        "To get used to `gymnasium` package, please, refer to the [documentation](https://gymnasium.farama.org/introduction/basic_usage/).\n",
        "\n",
        "\n",
        "In the end of the notebook, please, copy the functions you have implemented to the template file and submit it to the Contest."
      ]
    },
    {
      "cell_type": "code",
      "execution_count": null,
      "metadata": {
        "id": "7UYczVTli2Sb"
      },
      "outputs": [],
      "source": [
        "import gymnasium as gym\n",
        "import numpy as np\n",
        "import matplotlib.pyplot as plt"
      ]
    },
    {
      "cell_type": "code",
      "execution_count": null,
      "metadata": {
        "colab": {
          "base_uri": "https://localhost:8080/",
          "height": 413
        },
        "id": "XPKYrIlai2Sf",
        "outputId": "d223b5aa-049d-4676-b70d-3c51e39083ca"
      },
      "outputs": [
        {
          "data": {
            "text/plain": [
              "<matplotlib.image.AxesImage at 0x7de3a8b616d0>"
            ]
          },
          "execution_count": 2,
          "metadata": {},
          "output_type": "execute_result"
        },
        {
          "data": {
            "image/png": "[encoded data removed]",
            "text/plain": [
              "<Figure size 640x480 with 1 Axes>"
            ]
          },
          "metadata": {},
          "output_type": "display_data"
        }
      ],
      "source": [
        "env = gym.make(\"CartPole-v1\", render_mode=\"rgb_array\")\n",
        "\n",
        "env.reset()\n",
        "n_actions = env.action_space.n\n",
        "state_dim = env.observation_space.shape\n",
        "\n",
        "plt.imshow(env.render())"
      ]
    },
    {
      "cell_type": "markdown",
      "metadata": {
        "id": "75eHkuwTi2Si"
      },
      "source": [
        "# Building the network for Policy Gradient (REINFORCE)"
      ]
    },
    {
      "cell_type": "markdown",
      "metadata": {
        "id": "x_TFCmsWi2Sj"
      },
      "source": [
        "For REINFORCE algorithm, we'll need a model that predicts action probabilities given states.\n",
        "\n",
        "For numerical stability, please __do not include the softmax layer into your network architecture__.\n",
        "We'll use softmax or log-softmax where appropriate."
      ]
    },
    {
      "cell_type": "code",
      "execution_count": null,
      "metadata": {
        "id": "sY2THBWfi2Sl"
      },
      "outputs": [],
      "source": [
        "import torch\n",
        "import torch.nn as nn"
      ]
    },
    {
      "cell_type": "code",
      "execution_count": null,
      "metadata": {
        "id": "8_pYr7PZi2Sn"
      },
      "outputs": [],
      "source": [
        "# Build a simple neural network that predicts policy logits.\n",
        "# Keep it simple: CartPole isn't worth deep architectures.\n",
        "model = nn.Sequential(\n",
        "    nn.Linear(4, 16),\n",
        "    nn.ReLU(),\n",
        "    nn.Linear(16, 2)\n",
        "    )\n",
        "assert model is not None, \"model is not defined\""
      ]
    },
    {
      "cell_type": "code",
      "execution_count": null,
      "metadata": {
        "colab": {
          "base_uri": "https://localhost:8080/"
        },
        "id": "IaJXwt4Mg6UD",
        "outputId": "d08fa1b1-a76a-4d39-f8ac-0892a242e441"
      },
      "outputs": [
        {
          "name": "stdout",
          "output_type": "stream",
          "text": [
            "example_states_batch.shape: (5, 4)\n",
            "example_logits.shape: torch.Size([5, 2])\n"
          ]
        }
      ],
      "source": [
        "# do not change the code block below\n",
        "batch_size_for_test = 5\n",
        "example_states_batch = np.array([env.reset()[0] for _ in range(5)])\n",
        "print(f\"example_states_batch.shape: {example_states_batch.shape}\")\n",
        "assert example_states_batch.shape == (batch_size_for_test, state_dim[0])\n",
        "\n",
        "example_logits = model(torch.from_numpy(example_states_batch))\n",
        "print(f\"example_logits.shape: {example_logits.shape}\")\n",
        "assert example_logits.shape == (batch_size_for_test, n_actions)\n",
        "# do not change the code block above"
      ]
    },
    {
      "cell_type": "markdown",
      "metadata": {
        "id": "8Y80qbQFi2Sq"
      },
      "source": [
        "#### Predicting the action probas"
      ]
    },
    {
      "cell_type": "markdown",
      "metadata": {
        "id": "12PjRu0mi2Sr"
      },
      "source": [
        "Note: **output value of this function is not a torch tensor, it's a numpy array.**\n",
        "\n",
        "So, here gradient calculation is not needed.\n",
        "\n",
        "Use [no_grad](https://pytorch.org/docs/stable/autograd.html#torch.autograd.no_grad)\n",
        "to suppress gradient calculation.\n",
        "\n",
        "Also, `.detach()` can be used instead, but there is a difference:\n",
        "\n",
        "* With `.detach()` computational graph is built but then disconnected from a particular tensor, so `.detach()` should be used if that graph is needed for backprop via some other (not detached) tensor;\n",
        "* In contrast, no graph is built by any operation in `no_grad()` context, thus it's preferable here."
      ]
    },
    {
      "cell_type": "code",
      "execution_count": null,
      "metadata": {
        "id": "d5B5JuXCi2St"
      },
      "outputs": [],
      "source": [
        "def predict_probs(states, model):\n",
        "    \"\"\"\n",
        "    Predict action probabilities given states.\n",
        "    :param states: numpy array of shape [batch, state_shape]\n",
        "    :param model: torch model\n",
        "    :returns: numpy array of shape [batch, n_actions]\n",
        "    \"\"\"\n",
        "    # convert states, compute logits, use softmax to get probability\n",
        "\n",
        "    with torch.no_grad():\n",
        "      tensor_ = torch.from_numpy(states).float()\n",
        "      logits = model(tensor_)\n",
        "      probs_tensor = torch.softmax(logits, dim=-1)\n",
        "      probs = probs_tensor.numpy()\n",
        "\n",
        "    assert probs is not None, \"probs is not defined\"\n",
        "\n",
        "    return probs"
      ]
    },
    {
      "cell_type": "code",
      "execution_count": null,
      "metadata": {
        "id": "Obkl_jCii2Sv"
      },
      "outputs": [],
      "source": [
        "test_states = np.array([env.reset()[0] for _ in range(5)])\n",
        "test_probas = predict_probs(test_states, model)\n",
        "assert isinstance(test_probas, np.ndarray), \\\n",
        "    \"you must return np array and not %s\" % type(test_probas)\n",
        "assert tuple(test_probas.shape) == (test_states.shape[0], env.action_space.n), \\\n",
        "    \"wrong output shape: %s\" % np.shape(test_probas)\n",
        "assert np.allclose(np.sum(test_probas, axis=1), 1), \"probabilities do not sum to 1\""
      ]
    },
    {
      "cell_type": "markdown",
      "metadata": {
        "id": "Be6AYf8gi2Sw"
      },
      "source": [
        "### Play the game\n",
        "\n",
        "We can now use our newly built agent to play the game."
      ]
    },
    {
      "cell_type": "code",
      "execution_count": null,
      "metadata": {
        "id": "8LOUUvnki2Sx"
      },
      "outputs": [],
      "source": [
        "def generate_session(env, t_max=1000):\n",
        "    \"\"\"\n",
        "    Play a full session with REINFORCE agent.\n",
        "    Returns sequences of states, actions, and rewards.\n",
        "    \"\"\"\n",
        "    # arrays to record session\n",
        "    states, actions, rewards = [], [], []\n",
        "    s, info = env.reset()\n",
        "\n",
        "    for t in range(t_max):\n",
        "        # action probabilities array aka pi(a|s)\n",
        "        action_probs = predict_probs(np.array([s]), model)[0]\n",
        "\n",
        "        # Sample action with given probabilities.\n",
        "        a = np.random.choice(n_actions, p=action_probs)\n",
        "        new_s, r, done, truncated, info = env.step(a)\n",
        "\n",
        "        # record session history to train later\n",
        "        states.append(s)\n",
        "        actions.append(a)\n",
        "        rewards.append(r)\n",
        "\n",
        "        s = new_s\n",
        "        if done:\n",
        "            break\n",
        "\n",
        "    return states, actions, rewards"
      ]
    },
    {
      "cell_type": "code",
      "execution_count": null,
      "metadata": {
        "id": "5sdENWJAi2Sz"
      },
      "outputs": [],
      "source": [
        "# test it\n",
        "states, actions, rewards = generate_session(env)"
      ]
    },
    {
      "cell_type": "markdown",
      "metadata": {
        "id": "eG5hLg-3i2S0"
      },
      "source": [
        "### Computing cumulative rewards\n",
        "\n",
        "To work with sequential environments we need the cumulative discounted reward for known for every state. To compute it we can **roll back** from the end of the session to the beginning and compute the discounted cumulative reward as following:\n",
        "\n",
        "$$\n",
        "\\begin{align*}\n",
        "G_t &= r_t + \\gamma r_{t + 1} + \\gamma^2 r_{t + 2} + \\ldots \\\\\n",
        "&= \\sum_{i = t}^T \\gamma^{i - t} r_i \\\\\n",
        "&= r_t + \\gamma * G_{t + 1}\n",
        "\\end{align*}\n",
        "$$"
      ]
    },
    {
      "cell_type": "code",
      "execution_count": null,
      "metadata": {
        "id": "AoWX9gvai2S0"
      },
      "outputs": [],
      "source": [
        "def get_cumulative_rewards(rewards,  # rewards at each step\n",
        "                           gamma=0.99  # discount for reward\n",
        "                           ):\n",
        "    \"\"\"\n",
        "    Take a list of immediate rewards r(s,a) for the whole session\n",
        "    and compute cumulative returns (a.k.a. G(s,a) in Sutton '16).\n",
        "\n",
        "    G_t = r_t + gamma*r_{t+1} + gamma^2*r_{t+2} + ...\n",
        "\n",
        "    A simple way to compute cumulative rewards is to iterate from the last\n",
        "    to the first timestep and compute G_t = r_t + gamma*G_{t+1} recurrently\n",
        "\n",
        "    You must return an array/list of cumulative rewards with as many elements as in the initial rewards.\n",
        "    \"\"\"\n",
        "    # YOUR CODE GOES HERE\n",
        "    cumulative_rewards = []\n",
        "    G_next = 0\n",
        "\n",
        "    for i, reward in enumerate(reversed(rewards)):\n",
        "      current_sum = reward + gamma * G_next\n",
        "      G_next = current_sum\n",
        "      cumulative_rewards.insert(0, current_sum)\n",
        "\n",
        "    assert cumulative_rewards is not None, \"cumulative_rewards is not defined\"\n",
        "\n",
        "    return cumulative_rewards"
      ]
    },
    {
      "cell_type": "code",
      "execution_count": null,
      "metadata": {
        "colab": {
          "base_uri": "https://localhost:8080/"
        },
        "id": "2DX39wcUi2S3",
        "outputId": "445cd5aa-af07-4f45-fc6d-7ec4f26a2d0c"
      },
      "outputs": [
        {
          "name": "stdout",
          "output_type": "stream",
          "text": [
            "looks good!\n"
          ]
        }
      ],
      "source": [
        "get_cumulative_rewards(rewards)\n",
        "assert len(get_cumulative_rewards(list(range(100)))) == 100\n",
        "assert np.allclose(\n",
        "    get_cumulative_rewards([0, 0, 1, 0, 0, 1, 0], gamma=0.9),\n",
        "    [1.40049, 1.5561, 1.729, 0.81, 0.9, 1.0, 0.0])\n",
        "assert np.allclose(\n",
        "    get_cumulative_rewards([0, 0, 1, -2, 3, -4, 0], gamma=0.5),\n",
        "    [0.0625, 0.125, 0.25, -1.5, 1.0, -4.0, 0.0])\n",
        "assert np.allclose(\n",
        "    get_cumulative_rewards([0, 0, 1, 2, 3, 4, 0], gamma=0),\n",
        "    [0, 0, 1, 2, 3, 4, 0])\n",
        "print(\"looks good!\")"
      ]
    },
    {
      "cell_type": "markdown",
      "metadata": {
        "id": "evLt5DJji2S_"
      },
      "source": [
        "### Loss function and updates\n",
        "\n",
        "We now need to define objective and update over policy gradient.\n",
        "\n",
        "Our objective function is\n",
        "\n",
        "$$ J \\approx  { 1 \\over N } \\sum_{s_i,a_i} G(s_i,a_i) $$\n",
        "\n",
        "REINFORCE defines a way to compute the gradient of the expected reward with respect to policy parameters. The formula is as follows:\n",
        "\n",
        "$$ \\nabla_\\theta \\hat J(\\theta) \\approx { 1 \\over N } \\sum_{s_i, a_i} \\nabla_\\theta \\log \\pi_\\theta (a_i \\mid s_i) \\cdot G_t(s_i, a_i) $$\n",
        "\n",
        "We can abuse PyTorch's capabilities for automatic differentiation by defining our objective function as follows:\n",
        "\n",
        "$$ \\hat J(\\theta) \\approx { 1 \\over N } \\sum_{s_i, a_i} \\log \\pi_\\theta (a_i \\mid s_i) \\cdot G_t(s_i, a_i) $$\n",
        "\n",
        "When you compute the gradient of that function with respect to network weights $\\theta$, it will become exactly the policy gradient.\n",
        "\n",
        "Final loss should also include the entropy regularization term $H(\\pi_\\theta (a_i \\mid s_i))$ to enforce the exploration:\n",
        "\n",
        "$$\n",
        "L = -\\hat J(\\theta) - \\lambda H(\\pi_\\theta (a_i \\mid s_i)),\n",
        "$$\n",
        "where $\\lambda$ is the `entropy_coef`."
      ]
    },
    {
      "cell_type": "markdown",
      "metadata": {
        "id": "33CMbwYrg6UG"
      },
      "source": [
        "This function might be useful:"
      ]
    },
    {
      "cell_type": "code",
      "execution_count": null,
      "metadata": {
        "id": "_hLjxTVLi2TB"
      },
      "outputs": [],
      "source": [
        "def to_one_hot(y_tensor, ndims):\n",
        "    \"\"\" helper: take an integer vector and convert it to 1-hot matrix. \"\"\"\n",
        "    y_tensor = y_tensor.type(torch.LongTensor).view(-1, 1)\n",
        "    y_one_hot = torch.zeros(\n",
        "        y_tensor.size()[0], ndims).scatter_(1, y_tensor, 1)\n",
        "    return y_one_hot"
      ]
    },
    {
      "cell_type": "code",
      "execution_count": null,
      "metadata": {
        "id": "u8vFM5O_g6UH"
      },
      "outputs": [],
      "source": [
        "def get_loss(logits, actions, rewards, n_actions, gamma=0.99, entropy_coef=1e-2):\n",
        "    \"\"\"\n",
        "    logits: torch.Tensor shape [T, n_actions]\n",
        "    actions: list or array of ints length T\n",
        "    rewards: list of immediate rewards length T\n",
        "    returns: scalar torch.Tensor loss\n",
        "    \"\"\"\n",
        "    # convert\n",
        "    actions_t = torch.tensor(actions, dtype=torch.long)\n",
        "    returns = np.array(get_cumulative_rewards(rewards, gamma))\n",
        "    returns_t = torch.tensor(returns, dtype=torch.float32)\n",
        "\n",
        "    # compute probabilities and log-probs (torch tensors)\n",
        "    probs = torch.softmax(logits, dim=1)\n",
        "    log_probs = torch.log_softmax(logits, dim=1)\n",
        "\n",
        "    # select log-prob for each taken action\n",
        "    # gather expects dims: (batch,1) -> then squeeze to [T]\n",
        "    log_probs_for_actions = log_probs.gather(1, actions_t.view(-1, 1)).squeeze(1)\n",
        "\n",
        "    # J_hat = (1/N) * sum_t log_pi(a_t|s_t) * G_t\n",
        "    J_hat = torch.mean(log_probs_for_actions * returns_t)\n",
        "\n",
        "    # entropy: per timestep H = - sum_a p(a) log p(a); use mean entropy\n",
        "    entropy_per_t = -torch.sum(probs * log_probs, dim=1)\n",
        "    entropy = torch.mean(entropy_per_t)\n",
        "\n",
        "    # loss = -J_hat - entropy_coef * entropy\n",
        "    loss = -J_hat - entropy_coef * entropy\n",
        "\n",
        "    return loss"
      ]
    },
    {
      "cell_type": "code",
      "execution_count": null,
      "metadata": {
        "id": "1C8ZSizji2TD"
      },
      "outputs": [],
      "source": [
        "# Your code: define optimizers\n",
        "optimizer = torch.optim.Adam(model.parameters(), 1e-3)\n",
        "\n",
        "def train_on_session(states, actions, rewards, gamma=0.99, entropy_coef=1e-2):\n",
        "    \"\"\"\n",
        "    Takes a sequence of states, actions and rewards produced by generate_session.\n",
        "    Updates agent's weights by following the policy gradient above.\n",
        "    Please use Adam optimizer with default parameters.\n",
        "    \"\"\"\n",
        "\n",
        "    states = torch.tensor(states, dtype=torch.float32)\n",
        "    logits = model(states)\n",
        "    # cast everything into torch tensors\n",
        "    loss = get_loss(logits, actions, rewards, n_actions=n_actions, gamma=gamma, entropy_coef=entropy_coef)\n",
        "    # Gradient descent step\n",
        "    loss.backward()\n",
        "    optimizer.step()\n",
        "    optimizer.zero_grad()\n",
        "\n",
        "    # technical: return session rewards to print them later\n",
        "    return np.sum(rewards)"
      ]
    },
    {
      "cell_type": "markdown",
      "metadata": {
        "id": "E-WWsbl5i2TE"
      },
      "source": [
        "### The actual training"
      ]
    },
    {
      "cell_type": "code",
      "execution_count": null,
      "metadata": {
        "colab": {
          "base_uri": "https://localhost:8080/"
        },
        "id": "ckHj5sXBi2TE",
        "outputId": "1a57a815-0c16-44f5-99ea-56208471ea30",
        "scrolled": true
      },
      "outputs": [
        {
          "name": "stderr",
          "output_type": "stream",
          "text": [
            "/tmp/ipython-input-2359954175.py:11: UserWarning: Creating a tensor from a list of numpy.ndarrays is extremely slow. Please consider converting the list to a single numpy.ndarray with numpy.array() before converting to a tensor. (Triggered internally at /pytorch/torch/csrc/utils/tensor_new.cpp:253.)\n",
            "  states = torch.tensor(states, dtype=torch.float32)\n"
          ]
        },
        {
          "name": "stdout",
          "output_type": "stream",
          "text": [
            "mean reward:21.550\n",
            "mean reward:20.980\n",
            "mean reward:22.630\n",
            "mean reward:29.420\n",
            "mean reward:32.990\n",
            "mean reward:38.250\n",
            "mean reward:41.790\n",
            "mean reward:58.880\n",
            "mean reward:69.500\n",
            "mean reward:99.720\n",
            "mean reward:141.130\n",
            "mean reward:160.080\n",
            "mean reward:177.890\n",
            "mean reward:141.620\n",
            "mean reward:172.970\n",
            "mean reward:251.690\n",
            "mean reward:296.640\n",
            "mean reward:363.600\n",
            "mean reward:283.180\n",
            "mean reward:153.590\n",
            "mean reward:234.960\n",
            "mean reward:185.900\n",
            "mean reward:184.780\n",
            "mean reward:307.200\n",
            "mean reward:528.310\n",
            "mean reward:538.880\n",
            "mean reward:357.440\n",
            "mean reward:425.240\n",
            "mean reward:528.620\n",
            "mean reward:295.780\n",
            "mean reward:183.650\n",
            "mean reward:373.710\n",
            "mean reward:383.980\n",
            "mean reward:160.760\n",
            "mean reward:147.200\n",
            "mean reward:197.350\n",
            "mean reward:187.670\n",
            "mean reward:143.950\n",
            "mean reward:167.080\n",
            "mean reward:141.700\n",
            "mean reward:197.590\n",
            "mean reward:147.560\n",
            "mean reward:137.520\n",
            "mean reward:120.080\n",
            "mean reward:138.310\n",
            "mean reward:173.920\n",
            "mean reward:365.010\n",
            "mean reward:213.910\n",
            "mean reward:365.660\n",
            "mean reward:183.300\n",
            "mean reward:144.360\n",
            "mean reward:243.420\n",
            "mean reward:124.250\n",
            "mean reward:108.230\n",
            "mean reward:141.450\n",
            "mean reward:408.810\n",
            "mean reward:299.700\n",
            "mean reward:215.850\n",
            "mean reward:144.600\n",
            "mean reward:124.270\n",
            "mean reward:250.450\n",
            "mean reward:201.070\n",
            "mean reward:107.630\n",
            "mean reward:142.380\n",
            "mean reward:146.050\n",
            "mean reward:176.390\n",
            "mean reward:246.570\n",
            "mean reward:190.090\n",
            "mean reward:245.450\n",
            "mean reward:204.970\n",
            "mean reward:191.940\n",
            "mean reward:190.910\n",
            "mean reward:171.480\n",
            "mean reward:117.410\n",
            "mean reward:163.060\n",
            "mean reward:138.720\n",
            "mean reward:167.060\n",
            "mean reward:152.320\n",
            "mean reward:134.530\n",
            "mean reward:184.760\n",
            "mean reward:117.100\n",
            "mean reward:142.180\n",
            "mean reward:148.840\n",
            "mean reward:99.850\n",
            "mean reward:99.370\n",
            "mean reward:169.110\n",
            "mean reward:111.740\n",
            "mean reward:116.230\n",
            "mean reward:163.410\n",
            "mean reward:255.620\n",
            "mean reward:164.390\n",
            "mean reward:183.720\n",
            "mean reward:136.510\n",
            "mean reward:117.920\n",
            "mean reward:122.980\n",
            "mean reward:118.940\n",
            "mean reward:118.270\n",
            "mean reward:130.460\n",
            "mean reward:156.420\n",
            "mean reward:129.940\n",
            "mean reward:103.150\n",
            "mean reward:156.820\n",
            "mean reward:143.500\n",
            "mean reward:165.970\n",
            "mean reward:182.570\n",
            "mean reward:212.960\n",
            "mean reward:269.440\n",
            "mean reward:302.330\n",
            "mean reward:232.350\n",
            "mean reward:270.770\n",
            "mean reward:189.940\n",
            "mean reward:133.550\n",
            "mean reward:137.340\n",
            "mean reward:127.290\n",
            "mean reward:122.620\n",
            "mean reward:119.570\n",
            "mean reward:112.370\n",
            "mean reward:118.890\n",
            "mean reward:121.030\n",
            "mean reward:121.410\n",
            "mean reward:123.330\n",
            "mean reward:126.110\n",
            "mean reward:115.730\n",
            "mean reward:137.910\n",
            "mean reward:183.720\n",
            "mean reward:147.980\n",
            "mean reward:125.640\n",
            "mean reward:102.090\n",
            "mean reward:98.690\n",
            "mean reward:117.440\n",
            "mean reward:104.190\n",
            "mean reward:102.900\n",
            "mean reward:98.880\n",
            "mean reward:107.520\n",
            "mean reward:114.350\n",
            "mean reward:117.640\n",
            "mean reward:115.370\n",
            "mean reward:117.130\n",
            "mean reward:119.240\n",
            "mean reward:123.800\n",
            "mean reward:125.780\n",
            "mean reward:175.020\n",
            "mean reward:194.590\n",
            "mean reward:134.010\n",
            "mean reward:127.840\n",
            "mean reward:120.720\n",
            "mean reward:191.150\n",
            "mean reward:143.750\n",
            "mean reward:126.750\n",
            "mean reward:124.090\n",
            "mean reward:166.640\n",
            "mean reward:142.290\n",
            "mean reward:144.820\n",
            "mean reward:264.580\n",
            "mean reward:158.070\n",
            "mean reward:128.780\n",
            "mean reward:116.700\n",
            "mean reward:125.300\n",
            "mean reward:126.950\n",
            "mean reward:122.470\n",
            "mean reward:140.830\n",
            "mean reward:177.470\n",
            "mean reward:116.540\n",
            "mean reward:102.950\n",
            "mean reward:103.120\n",
            "mean reward:112.270\n",
            "mean reward:123.790\n",
            "mean reward:241.050\n",
            "mean reward:173.540\n",
            "mean reward:137.680\n",
            "mean reward:128.850\n",
            "mean reward:137.990\n",
            "mean reward:123.650\n",
            "mean reward:119.750\n",
            "mean reward:114.270\n",
            "mean reward:109.010\n",
            "mean reward:103.830\n",
            "mean reward:104.950\n",
            "mean reward:109.940\n",
            "mean reward:109.940\n",
            "mean reward:113.180\n",
            "mean reward:119.000\n",
            "mean reward:119.080\n",
            "mean reward:105.480\n",
            "mean reward:114.510\n",
            "mean reward:113.930\n",
            "mean reward:126.730\n",
            "mean reward:128.100\n",
            "mean reward:123.670\n",
            "mean reward:126.810\n",
            "mean reward:118.700\n",
            "mean reward:123.210\n",
            "mean reward:123.020\n",
            "mean reward:126.020\n",
            "mean reward:121.300\n",
            "mean reward:117.740\n",
            "mean reward:121.280\n",
            "mean reward:126.990\n",
            "mean reward:126.520\n",
            "mean reward:124.610\n",
            "mean reward:114.330\n",
            "mean reward:114.840\n",
            "mean reward:119.750\n",
            "mean reward:129.480\n",
            "mean reward:131.580\n",
            "mean reward:167.020\n",
            "mean reward:168.290\n",
            "mean reward:129.280\n",
            "mean reward:122.750\n",
            "mean reward:129.130\n",
            "mean reward:136.130\n",
            "mean reward:123.370\n",
            "mean reward:122.510\n",
            "mean reward:119.480\n",
            "mean reward:117.380\n",
            "mean reward:124.880\n",
            "mean reward:126.200\n",
            "mean reward:171.380\n",
            "mean reward:242.320\n",
            "mean reward:120.280\n",
            "mean reward:134.080\n",
            "mean reward:199.230\n",
            "mean reward:205.140\n",
            "mean reward:121.600\n",
            "mean reward:163.150\n",
            "mean reward:103.780\n",
            "mean reward:102.160\n",
            "mean reward:114.550\n",
            "mean reward:182.730\n",
            "mean reward:134.010\n",
            "mean reward:174.040\n",
            "mean reward:99.460\n",
            "mean reward:97.620\n",
            "mean reward:118.970\n",
            "mean reward:120.970\n",
            "mean reward:156.080\n",
            "mean reward:255.360\n",
            "mean reward:298.230\n",
            "mean reward:157.780\n",
            "mean reward:291.230\n",
            "mean reward:228.700\n",
            "mean reward:131.320\n",
            "mean reward:136.820\n",
            "mean reward:212.630\n",
            "mean reward:130.690\n",
            "mean reward:100.040\n",
            "mean reward:108.260\n",
            "mean reward:122.820\n",
            "mean reward:99.730\n",
            "mean reward:99.580\n",
            "mean reward:97.130\n",
            "mean reward:105.620\n",
            "mean reward:103.970\n",
            "mean reward:101.480\n",
            "mean reward:109.510\n",
            "mean reward:110.940\n",
            "mean reward:116.300\n",
            "mean reward:112.340\n",
            "mean reward:112.720\n",
            "mean reward:119.550\n",
            "mean reward:122.770\n",
            "mean reward:117.350\n",
            "mean reward:111.630\n",
            "mean reward:105.480\n",
            "mean reward:95.650\n",
            "mean reward:100.740\n",
            "mean reward:100.930\n",
            "mean reward:92.160\n",
            "mean reward:96.500\n",
            "mean reward:104.190\n",
            "mean reward:103.440\n",
            "mean reward:102.450\n",
            "mean reward:94.770\n",
            "mean reward:103.120\n",
            "mean reward:96.610\n",
            "mean reward:105.410\n",
            "mean reward:113.330\n",
            "mean reward:112.990\n",
            "mean reward:114.380\n",
            "mean reward:116.720\n",
            "mean reward:117.550\n",
            "mean reward:119.310\n",
            "mean reward:133.790\n",
            "mean reward:191.570\n",
            "mean reward:770.120\n",
            "mean reward:739.040\n",
            "mean reward:974.410\n",
            "You Win!\n"
          ]
        }
      ],
      "source": [
        "for i in range(500):\n",
        "    rewards = [train_on_session(*generate_session(env), entropy_coef=1e-3) for _ in range(100)]  # generate new sessions\n",
        "\n",
        "    print(\"mean reward:%.3f\" % (np.mean(rewards)))\n",
        "\n",
        "    if np.mean(rewards) > 800:\n",
        "        print(\"You Win!\")  # but you can train even further\n",
        "        break"
      ]
    },
    {
      "cell_type": "markdown",
      "metadata": {
        "id": "Bg__sQeti2TF"
      },
      "source": [
        "### Watch the video of your results:"
      ]
    },
    {
      "cell_type": "code",
      "execution_count": null,
      "metadata": {
        "id": "n2qfwO4Gg6UI"
      },
      "outputs": [],
      "source": [
        "import os\n",
        "import numpy as np\n",
        "import gymnasium as gym\n",
        "from gymnasium.utils.save_video import save_video\n",
        "\n",
        "env_for_video = gym.make(\"CartPole-v1\", render_mode=\"rgb_array_list\")\n",
        "n_actions = env_for_video.action_space.n\n",
        "\n",
        "episode_index = 0\n",
        "step_starting_index = 0\n",
        "\n",
        "obs, info = env_for_video.reset()\n",
        "\n",
        "for step_index in range(800):\n",
        "    probs = predict_probs(np.array([obs]), model)[0]\n",
        "    action = np.random.choice(n_actions, p=probs)\n",
        "\n",
        "    obs, reward, terminated, truncated, info = env_for_video.step(action)\n",
        "    done = terminated or truncated\n",
        "\n",
        "    if done or step_index == 799:\n",
        "        # env_for_video.render() now returns the LIST of frames accumulated so far\n",
        "        frames = env_for_video.render()\n",
        "        os.makedirs(\"videos\", exist_ok=True)\n",
        "        save_video(\n",
        "            frames, \"videos\",\n",
        "            fps=env_for_video.metadata.get(\"render_fps\", 30),\n",
        "            step_starting_index=step_starting_index,\n",
        "            episode_index=episode_index,\n",
        "        )\n",
        "        episode_index += 1\n",
        "        step_starting_index = step_index + 1\n",
        "        obs, info = env_for_video.reset()\n",
        "\n",
        "env_for_video.close()\n"
      ]
    },
    {
      "cell_type": "markdown",
      "metadata": {
        "id": "IjTLj058g6UI"
      },
      "source": [
        "Congratulations! Finally, copy the `predict_probs`, `get_cumulative_rewards` and `get_loss` to the template and submit them to the Contest.\n",
        "\n",
        "Good luck!"
      ]
    },
    {
      "cell_type": "markdown",
      "metadata": {
        "id": "9IoPvSWtg6UI"
      },
      "source": [
        "## Bonus part (no points, just for the interested ones)\n",
        "\n",
        "Try solving the `Acrobot-v1` environment. It is more complex than regular `CartPole-v1`, so the default Policy Gradient (REINFORCE) algorithm might not work. Maybe the baseline idea could help...\n",
        "\n",
        "![Acrobot](https://gymnasium.farama.org/_images/acrobot.gif)\n"
      ]
    },
    {
      "cell_type": "code",
      "execution_count": null,
      "metadata": {
        "colab": {
          "base_uri": "https://localhost:8080/",
          "height": 452
        },
        "id": "ycjt6crxg6UI",
        "outputId": "529fc1ed-edbf-4f75-803d-d2b04a84558c"
      },
      "outputs": [
        {
          "data": {
            "text/plain": [
              "<matplotlib.image.AxesImage at 0x7de29e334620>"
            ]
          },
          "execution_count": 21,
          "metadata": {},
          "output_type": "execute_result"
        },
        {
          "data": {
            "image/png": "[encoded data removed]",
            "text/plain": [
              "<Figure size 640x480 with 1 Axes>"
            ]
          },
          "metadata": {},
          "output_type": "display_data"
        }
      ],
      "source": [
        "env = gym.make(\"Acrobot-v1\", render_mode=\"rgb_array\")\n",
        "\n",
        "\n",
        "env.reset()\n",
        "n_actions = env.action_space.n\n",
        "state_dim = env.observation_space.shape\n",
        "\n",
        "plt.imshow(env.render())"
      ]
    },
    {
      "cell_type": "code",
      "execution_count": null,
      "metadata": {
        "id": "iXB55Kc_g6UJ"
      },
      "outputs": [],
      "source": [
        "# Your brave and victorious code here."
      ]
    }
  ],
  "metadata": {
    "accelerator": "GPU",
    "colab": {
      "gpuType": "T4",
      "provenance": []
    },
    "kernelspec": {
      "display_name": "Python 3",
      "name": "python3"
    },
    "language_info": {
      "codemirror_mode": {
        "name": "ipython",
        "version": 3
      },
      "file_extension": ".py",
      "mimetype": "text/x-python",
      "name": "python",
      "nbconvert_exporter": "python",
      "pygments_lexer": "ipython3",
      "version": "3.12.9"
    }
  },
  "nbformat": 4,
  "nbformat_minor": 0
}
